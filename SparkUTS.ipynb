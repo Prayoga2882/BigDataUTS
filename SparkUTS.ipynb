{
 "cells": [
  {
   "cell_type": "code",
   "execution_count": 35,
   "id": "comprehensive-context",
   "metadata": {},
   "outputs": [],
   "source": [
    "from pyspark.sql import SparkSession\n",
    "\n",
    "spark = SparkSession.builder.appName(\"MyFirstCSVLoad\").getOrCreate()"
   ]
  },
  {
   "cell_type": "code",
   "execution_count": 36,
   "id": "significant-newspaper",
   "metadata": {},
   "outputs": [],
   "source": [
    "df = spark.read.csv(\n",
    "    \n",
    "    path=\"dataset/netflix_titles.csv\",\n",
    "    sep=\",\",\n",
    "    header=True,\n",
    "    quote='\"',\n",
    "    inferSchema=True,\n",
    ")\n",
    "    "
   ]
  },
  {
   "cell_type": "code",
   "execution_count": 37,
   "id": "bound-homework",
   "metadata": {},
   "outputs": [
    {
     "name": "stdout",
     "output_type": "stream",
     "text": [
      "+-------+-------+-----+-----------------+--------------------+-------------+-----------------+------------+------+---------+--------------------+--------------------+\n",
      "|show_id|   type|title|         director|                cast|      country|       date_added|release_year|rating| duration|           listed_in|         description|\n",
      "+-------+-------+-----+-----------------+--------------------+-------------+-----------------+------------+------+---------+--------------------+--------------------+\n",
      "|     s1|TV Show|   3%|             null|João Miguel, Bian...|       Brazil|  August 14, 2020|        2020| TV-MA|4 Seasons|International TV ...|In a future where...|\n",
      "|     s2|  Movie| 7:19|Jorge Michel Grau|Demián Bichir, Hé...|       Mexico|December 23, 2016|        2016| TV-MA|   93 min|Dramas, Internati...|After a devastati...|\n",
      "|     s3|  Movie|23:59|     Gilbert Chan|Tedd Chan, Stella...|    Singapore|December 20, 2018|        2011|     R|   78 min|Horror Movies, In...|When an army recr...|\n",
      "|     s4|  Movie|    9|      Shane Acker|Elijah Wood, John...|United States|November 16, 2017|        2009| PG-13|   80 min|Action & Adventur...|In a postapocalyp...|\n",
      "|     s5|  Movie|   21|   Robert Luketic|Jim Sturgess, Kev...|United States|  January 1, 2020|        2008| PG-13|  123 min|              Dramas|A brilliant group...|\n",
      "+-------+-------+-----+-----------------+--------------------+-------------+-----------------+------------+------+---------+--------------------+--------------------+\n",
      "only showing top 5 rows\n",
      "\n"
     ]
    }
   ],
   "source": [
    "nf = spark.read.csv(\"dataset/netflix_titles.csv\", header=True, inferSchema=True)\n",
    "\n",
    "conv = nf.toPandas()\n",
    "\n",
    "conv2 = nf.show(5)\n",
    "conv2"
   ]
  },
  {
   "cell_type": "code",
   "execution_count": null,
   "id": "interracial-premises",
   "metadata": {},
   "outputs": [],
   "source": []
  },
  {
   "cell_type": "code",
   "execution_count": 38,
   "id": "necessary-station",
   "metadata": {},
   "outputs": [
    {
     "name": "stdout",
     "output_type": "stream",
     "text": [
      "+---------+-----+\n",
      "| duration|count|\n",
      "+---------+-----+\n",
      "| 1 Season| 1607|\n",
      "|2 Seasons|  381|\n",
      "|3 Seasons|  184|\n",
      "|   90 min|  136|\n",
      "|   93 min|  130|\n",
      "|   91 min|  125|\n",
      "|   94 min|  125|\n",
      "|   95 min|  119|\n",
      "|   92 min|  118|\n",
      "|   97 min|  116|\n",
      "|   96 min|  115|\n",
      "|   98 min|  106|\n",
      "|   88 min|  101|\n",
      "|  103 min|  101|\n",
      "|   99 min|  101|\n",
      "|  102 min|   98|\n",
      "|  106 min|   97|\n",
      "|  100 min|   97|\n",
      "|  101 min|   96|\n",
      "|   86 min|   93|\n",
      "+---------+-----+\n",
      "only showing top 20 rows\n",
      "\n"
     ]
    }
   ],
   "source": [
    "kelompok = nf.groupBy('duration').count()\n",
    "kelompok.orderBy('count', ascending=False).show(20)"
   ]
  },
  {
   "cell_type": "code",
   "execution_count": 39,
   "id": "alleged-recognition",
   "metadata": {},
   "outputs": [],
   "source": [
    "#mencari daftar durasi"
   ]
  },
  {
   "cell_type": "code",
   "execution_count": 61,
   "id": "increasing-plate",
   "metadata": {},
   "outputs": [
    {
     "data": {
      "image/png": "[encoded data removed]",
      "text/plain": [
       "<Figure size 432x288 with 1 Axes>"
      ]
     },
     "metadata": {},
     "output_type": "display_data"
    }
   ],
   "source": [
    "import matplotlib.pyplot as plt\n",
    "import seaborn as sns\n",
    "import matplotlib.pyplot as plt\n",
    "\n",
    "plt.plot(figsize=(12,6))\n",
    "sns.set(style=\"whitegrid\")\n",
    "ax = sns.countplot(y=\"duration\", data=conv, palette=\"Set2\", order=conv['duration'].value_counts().index[0:10])\n",
    "plt.show()"
   ]
  },
  {
   "cell_type": "code",
   "execution_count": 41,
   "id": "cordless-medication",
   "metadata": {},
   "outputs": [],
   "source": [
    "#Mencari daftar rating terbanyak"
   ]
  },
  {
   "cell_type": "code",
   "execution_count": 63,
   "id": "sharing-arrival",
   "metadata": {},
   "outputs": [
    {
     "data": {
      "image/png": "[encoded data removed]",
      "text/plain": [
       "<Figure size 432x288 with 1 Axes>"
      ]
     },
     "metadata": {},
     "output_type": "display_data"
    }
   ],
   "source": [
    "plt.plot(figsize=(12,6))\n",
    "sns.set(style=\"whitegrid\")\n",
    "ax = sns.countplot(y=\"rating\", data=conv, palette=\"Set2\", order=conv['rating'].value_counts().index[0:10])\n",
    "plt.show()"
   ]
  },
  {
   "cell_type": "code",
   "execution_count": null,
   "id": "comic-sterling",
   "metadata": {},
   "outputs": [],
   "source": []
  },
  {
   "cell_type": "code",
   "execution_count": null,
   "id": "shaped-mission",
   "metadata": {},
   "outputs": [],
   "source": []
  }
 ],
 "metadata": {
  "kernelspec": {
   "display_name": "Python 3",
   "language": "python",
   "name": "python3"
  },
  "language_info": {
   "codemirror_mode": {
    "name": "ipython",
    "version": 3
   },
   "file_extension": ".py",
   "mimetype": "text/x-python",
   "name": "python",
   "nbconvert_exporter": "python",
   "pygments_lexer": "ipython3",
   "version": "3.9.1"
  }
 },
 "nbformat": 4,
 "nbformat_minor": 5
}
